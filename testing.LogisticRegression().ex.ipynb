{
 "cells": [
  {
   "cell_type": "code",
   "execution_count": 1,
   "id": "25bf93ef-bba3-4315-8b82-100aea6330ab",
   "metadata": {},
   "outputs": [],
   "source": [
    "from joblib import load\n",
    "import numpy as np\n",
    "model=load(\"LogisticRegression().ex.joblib\")"
   ]
  },
  {
   "cell_type": "code",
   "execution_count": 6,
   "id": "8f44c844-463a-4279-93f1-78994702a265",
   "metadata": {},
   "outputs": [],
   "source": [
    "# features=[[0.89,0.99,5,257,5,0,0,2,2]]\n",
    "# 0.89\t0.99\t5\t257\t5\t0\t0\t2\t2\n",
    "# 0.10\t0.85\t7\t279\t4\t0\t0\t1\t2\n",
    "features=[[0.10,0.85,7,279,4,0,0,1,2]]"
   ]
  },
  {
   "cell_type": "code",
   "execution_count": 7,
   "id": "9f3f5feb-3ad9-4ab1-9c19-fcb5d3fd5df9",
   "metadata": {},
   "outputs": [
    {
     "name": "stderr",
     "output_type": "stream",
     "text": [
      "C:\\Users\\PCR\\AppData\\Local\\Programs\\Python\\Python312\\Lib\\site-packages\\sklearn\\base.py:493: UserWarning: X does not have valid feature names, but LogisticRegression was fitted with feature names\n",
      "  warnings.warn(\n"
     ]
    },
    {
     "data": {
      "text/plain": [
       "array([1], dtype=int64)"
      ]
     },
     "execution_count": 7,
     "metadata": {},
     "output_type": "execute_result"
    }
   ],
   "source": [
    "model.predict(features)"
   ]
  },
  {
   "cell_type": "code",
   "execution_count": null,
   "id": "8b63cfd5-ee34-42c7-8f89-5c8f9149cf71",
   "metadata": {},
   "outputs": [],
   "source": []
  }
 ],
 "metadata": {
  "kernelspec": {
   "display_name": "Python 3 (ipykernel)",
   "language": "python",
   "name": "python3"
  },
  "language_info": {
   "codemirror_mode": {
    "name": "ipython",
    "version": 3
   },
   "file_extension": ".py",
   "mimetype": "text/x-python",
   "name": "python",
   "nbconvert_exporter": "python",
   "pygments_lexer": "ipython3",
   "version": "3.12.1"
  }
 },
 "nbformat": 4,
 "nbformat_minor": 5
}
